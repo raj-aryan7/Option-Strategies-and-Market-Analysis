{
 "cells": [
  {
   "cell_type": "markdown",
   "id": "ee54205a",
   "metadata": {},
   "source": [
    "## 1st Answer\n",
    "\n",
    "\n"
   ]
  },
  {
   "cell_type": "code",
   "execution_count": 1,
   "id": "5e547841",
   "metadata": {},
   "outputs": [],
   "source": [
    "import numpy as np\n",
    "import pandas as pd\n",
    "\n",
    "def construct_diversified_portfolio(assets_returns):\n",
    "  \n",
    "    returns_df = pd.DataFrame(assets_returns)\n",
    "\n",
    "    correlation_matrix = returns_df.corr()\n",
    "\n",
    "    min_avg_corr = np.inf\n",
    "    best_assets = []\n",
    "\n",
    "    for i in range(len(correlation_matrix.columns)):\n",
    "        for j in range(i+1, len(correlation_matrix.columns)):\n",
    "            asset_i = correlation_matrix.columns[i]\n",
    "            asset_j = correlation_matrix.columns[j]\n",
    "            avg_corr = (correlation_matrix[asset_i][asset_j] + correlation_matrix[asset_j][asset_i]) \n",
    "\n",
    "            if avg_corr < min_avg_corr:\n",
    "                min_avg_corr = avg_corr\n",
    "                best_assets = [asset_i, asset_j]\n",
    "\n",
    "    \n",
    "    return best_assets\n"
   ]
  },
  {
   "cell_type": "markdown",
   "id": "a8cbf243",
   "metadata": {},
   "source": [
    "# 2nd Answer \n"
   ]
  },
  {
   "cell_type": "code",
   "execution_count": 2,
   "id": "03cbdfb4",
   "metadata": {},
   "outputs": [],
   "source": [
    "import yfinance as yf\n",
    "import pandas as pd\n",
    "import numpy as np\n",
    "\n",
    "def fetch_historical_data(tickers, start_date, end_date):\n",
    "\n",
    "    data = yf.download(tickers, start=start_date, end=end_date)\n",
    "    return data['Adj Close']  \n",
    "\n",
    "def calculate_returns(prices):\n",
    "    \n",
    "    return prices.pct_change().dropna()\n",
    "\n",
    "def calculate_portfolio_returns(returns, weights):\n",
    "  \n",
    "    portfolio_returns = returns.dot(pd.Series(weights))\n",
    "    return portfolio_returns\n",
    "\n",
    "def calculate_var(portfolio_returns, confidence_level=0.05):\n",
    "  \n",
    "    return np.percentile(portfolio_returns, confidence_level * 100)\n",
    "\n",
    "def save_to_csv(data, file_path):    \n",
    "    data.to_csv(file_path)\n",
    "\n",
    "\n"
   ]
  },
  {
   "cell_type": "code",
   "execution_count": 3,
   "id": "b45d476a",
   "metadata": {},
   "outputs": [
    {
     "name": "stderr",
     "output_type": "stream",
     "text": [
      "[*********************100%%**********************]  3 of 3 completed\n"
     ]
    },
    {
     "name": "stdout",
     "output_type": "stream",
     "text": [
      "Value at Risk (VaR) at 95% confidence level: -1.80%\n",
      "Data saved to historical_data.csv\n"
     ]
    }
   ],
   "source": [
    "\n",
    "if __name__ == \"__main__\":\n",
    "    tickers = ['AAPL', 'MSFT', 'NFLX'] \n",
    "    start_date = '2023-01-01'\n",
    "    end_date = '2023-12-31'\n",
    "    file_path = 'historical_data.csv' \n",
    "\n",
    "    data = fetch_historical_data(tickers, start_date, end_date)\n",
    "\n",
    "    returns = calculate_returns(data)\n",
    "\n",
    "    weights = {'AAPL': 0.4, 'MSFT': 0.3, 'NFLX': 0.3}\n",
    "\n",
    "    portfolio_returns = calculate_portfolio_returns(returns, weights)\n",
    "\n",
    "    var_95 = calculate_var(portfolio_returns, confidence_level=0.05)\n",
    "\n",
    "    print(f\"Value at Risk (VaR) at 95% confidence level: {var_95:.2%}\")\n",
    "\n",
    "    save_to_csv(data, file_path)\n",
    "\n",
    "    print(f\"Data saved to {file_path}\")"
   ]
  },
  {
   "cell_type": "code",
   "execution_count": null,
   "id": "55e2b32e",
   "metadata": {},
   "outputs": [],
   "source": []
  }
 ],
 "metadata": {
  "kernelspec": {
   "display_name": "Python 3 (ipykernel)",
   "language": "python",
   "name": "python3"
  },
  "language_info": {
   "codemirror_mode": {
    "name": "ipython",
    "version": 3
   },
   "file_extension": ".py",
   "mimetype": "text/x-python",
   "name": "python",
   "nbconvert_exporter": "python",
   "pygments_lexer": "ipython3",
   "version": "3.12.4"
  }
 },
 "nbformat": 4,
 "nbformat_minor": 5
}
